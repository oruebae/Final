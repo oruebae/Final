{
 "cells": [
  {
   "cell_type": "markdown",
   "metadata": {},
   "source": [
    "<p style=\"text-align:center\">\n",
    "    <a href=\"https://skills.network/?utm_medium=Exinfluencer&utm_source=Exinfluencer&utm_content=000026UJ&utm_term=10006555&utm_id=NA-SkillsNetwork-Channel-SkillsNetworkCoursesIBMDA0321ENSkillsNetwork928-2022-01-01\" target=\"_blank\">\n",
    "    <img src=\"https://cf-courses-data.s3.us.cloud-object-storage.appdomain.cloud/assets/logos/SN_web_lightmode.png\" width=\"200\" alt=\"Skills Network Logo\"  />\n",
    "    </a>\n",
    "</p>\n"
   ]
  },
  {
   "cell_type": "markdown",
   "metadata": {},
   "source": [
    "# **Data Wrangling Lab**\n"
   ]
  },
  {
   "cell_type": "markdown",
   "metadata": {},
   "source": [
    "Estimated time needed: **45 to 60** minutes\n"
   ]
  },
  {
   "cell_type": "markdown",
   "metadata": {},
   "source": [
    "In this assignment you will be performing data wrangling.\n"
   ]
  },
  {
   "cell_type": "markdown",
   "metadata": {},
   "source": [
    "## Objectives\n"
   ]
  },
  {
   "cell_type": "markdown",
   "metadata": {},
   "source": [
    "In this lab you will perform the following:\n"
   ]
  },
  {
   "cell_type": "markdown",
   "metadata": {},
   "source": [
    "-   Identify duplicate values in the dataset.\n",
    "\n",
    "-   Remove duplicate values from the dataset.\n",
    "\n",
    "-   Identify missing values in the dataset.\n",
    "\n",
    "-   Impute the missing values in the dataset.\n",
    "\n",
    "-   Normalize data in the dataset.\n"
   ]
  },
  {
   "cell_type": "markdown",
   "metadata": {},
   "source": [
    "<hr>\n"
   ]
  },
  {
   "cell_type": "markdown",
   "metadata": {},
   "source": [
    "## Hands on Lab\n"
   ]
  },
  {
   "cell_type": "markdown",
   "metadata": {},
   "source": [
    "Import pandas module.\n"
   ]
  },
  {
   "cell_type": "code",
   "execution_count": 1,
   "metadata": {},
   "outputs": [],
   "source": [
    "import pandas as pd"
   ]
  },
  {
   "cell_type": "markdown",
   "metadata": {},
   "source": [
    "Load the dataset into a dataframe.\n"
   ]
  },
  {
   "cell_type": "markdown",
   "metadata": {},
   "source": [
    "<h2>Read Data</h2>\n",
    "<p>\n",
    "We utilize the <code>pandas.read_csv()</code> function for reading CSV files. However, in this version of the lab, which operates on JupyterLite, the dataset needs to be downloaded to the interface using the provided code below.\n",
    "</p>\n"
   ]
  },
  {
   "cell_type": "markdown",
   "metadata": {},
   "source": [
    "The functions below will download the dataset into your browser:\n"
   ]
  },
  {
   "cell_type": "code",
   "execution_count": 2,
   "metadata": {},
   "outputs": [],
   "source": [
    "file_path = \"https://cf-courses-data.s3.us.cloud-object-storage.appdomain.cloud/IBM-DA0321EN-SkillsNetwork/LargeData/m1_survey_data.csv\""
   ]
  },
  {
   "cell_type": "code",
   "execution_count": 5,
   "metadata": {},
   "outputs": [],
   "source": [
    "df=pd.read_csv(file_path)"
   ]
  },
  {
   "cell_type": "markdown",
   "metadata": {},
   "source": [
    "> Note: This version of the lab is working on JupyterLite, which requires the dataset to be downloaded to the interface.While working on the downloaded version of this notebook on their local machines(Jupyter Anaconda), the learners can simply **skip the steps above,** and simply use the URL directly in the `pandas.read_csv()` function. You can uncomment and run the statements in the cell below.\n"
   ]
  },
  {
   "cell_type": "code",
   "execution_count": 37,
   "metadata": {},
   "outputs": [
    {
     "name": "stdout",
     "output_type": "stream",
     "text": [
      "<class 'pandas.core.frame.DataFrame'>\n",
      "Int64Index: 11398 entries, 0 to 11551\n",
      "Data columns (total 86 columns):\n",
      " #   Column                       Non-Null Count  Dtype  \n",
      "---  ------                       --------------  -----  \n",
      " 0   Respondent                   11398 non-null  int64  \n",
      " 1   MainBranch                   11398 non-null  object \n",
      " 2   Hobbyist                     11398 non-null  object \n",
      " 3   OpenSourcer                  11398 non-null  object \n",
      " 4   OpenSource                   11317 non-null  object \n",
      " 5   Employment                   11398 non-null  object \n",
      " 6   Country                      11398 non-null  object \n",
      " 7   Student                      11347 non-null  object \n",
      " 8   EdLevel                      11286 non-null  object \n",
      " 9   UndergradMajor               10661 non-null  object \n",
      " 10  EduOther                     11234 non-null  object \n",
      " 11  OrgSize                      11302 non-null  object \n",
      " 12  DevType                      11333 non-null  object \n",
      " 13  YearsCode                    11389 non-null  object \n",
      " 14  Age1stCode                   11385 non-null  object \n",
      " 15  YearsCodePro                 11382 non-null  object \n",
      " 16  CareerSat                    11398 non-null  object \n",
      " 17  JobSat                       11397 non-null  object \n",
      " 18  MgrIdiot                     10905 non-null  object \n",
      " 19  MgrMoney                     10901 non-null  object \n",
      " 20  MgrWant                      10905 non-null  object \n",
      " 21  JobSeek                      11398 non-null  object \n",
      " 22  LastHireDate                 11398 non-null  object \n",
      " 23  LastInt                      10985 non-null  object \n",
      " 24  FizzBuzz                     11361 non-null  object \n",
      " 25  JobFactors                   11395 non-null  object \n",
      " 26  ResumeUpdate                 11359 non-null  object \n",
      " 27  CurrencySymbol               11398 non-null  object \n",
      " 28  CurrencyDesc                 11398 non-null  object \n",
      " 29  CompTotal                    10589 non-null  float64\n",
      " 30  CompFreq                     11192 non-null  float64\n",
      " 31  ConvertedComp                10582 non-null  float64\n",
      " 32  WorkWeekHrs                  11276 non-null  float64\n",
      " 33  WorkPlan                     11277 non-null  object \n",
      " 34  WorkChallenge                11234 non-null  object \n",
      " 35  WorkRemote                   11390 non-null  object \n",
      " 36  WorkLoc                      11398 non-null  object \n",
      " 37  ImpSyn                       11393 non-null  object \n",
      " 38  CodeRev                      11397 non-null  object \n",
      " 39  CodeRevHrs                   8972 non-null   float64\n",
      " 40  UnitTests                    11369 non-null  object \n",
      " 41  PurchaseHow                  11202 non-null  object \n",
      " 42  PurchaseWhat                 11360 non-null  object \n",
      " 43  LanguageWorkedWith           11387 non-null  object \n",
      " 44  LanguageDesireNextYear       11264 non-null  object \n",
      " 45  DatabaseWorkedWith           10945 non-null  object \n",
      " 46  DatabaseDesireNextYear       10356 non-null  object \n",
      " 47  PlatformWorkedWith           10987 non-null  object \n",
      " 48  PlatformDesireNextYear       10854 non-null  object \n",
      " 49  WebFrameWorkedWith           10005 non-null  object \n",
      " 50  WebFrameDesireNextYear       9781 non-null   object \n",
      " 51  MiscTechWorkedWith           9216 non-null   object \n",
      " 52  MiscTechDesireNextYear       9943 non-null   object \n",
      " 53  DevEnviron                   11369 non-null  object \n",
      " 54  OpSys                        11364 non-null  object \n",
      " 55  Containers                   11316 non-null  object \n",
      " 56  BlockchainOrg                9076 non-null   object \n",
      " 57  BlockchainIs                 8788 non-null   object \n",
      " 58  BetterLife                   11300 non-null  object \n",
      " 59  ITperson                     11363 non-null  object \n",
      " 60  OffOn                        11360 non-null  object \n",
      " 61  SocialMedia                  11105 non-null  object \n",
      " 62  Extraversion                 11378 non-null  object \n",
      " 63  ScreenName                   10891 non-null  object \n",
      " 64  SOVisit1st                   11073 non-null  object \n",
      " 65  SOVisitFreq                  11393 non-null  object \n",
      " 66  SOVisitTo                    11397 non-null  object \n",
      " 67  SOFindAnswer                 11395 non-null  object \n",
      " 68  SOTimeSaved                  11348 non-null  object \n",
      " 69  SOHowMuchTime                9481 non-null   object \n",
      " 70  SOAccount                    11397 non-null  object \n",
      " 71  SOPartFreq                   10270 non-null  object \n",
      " 72  SOJobs                       11392 non-null  object \n",
      " 73  EntTeams                     11393 non-null  object \n",
      " 74  SOComm                       11398 non-null  object \n",
      " 75  WelcomeChange                11313 non-null  object \n",
      " 76  SONewContent                 9433 non-null   object \n",
      " 77  Age                          11111 non-null  float64\n",
      " 78  Gender                       11325 non-null  object \n",
      " 79  Trans                        11275 non-null  object \n",
      " 80  Sexuality                    10856 non-null  object \n",
      " 81  Ethnicity                    10723 non-null  object \n",
      " 82  Dependents                   11258 non-null  object \n",
      " 83  SurveyLength                 11379 non-null  object \n",
      " 84  SurveyEase                   11384 non-null  object \n",
      " 85  NormalizedAnualCompensation  10583 non-null  float64\n",
      "dtypes: float64(7), int64(1), object(78)\n",
      "memory usage: 7.6+ MB\n"
     ]
    }
   ],
   "source": [
    "df.info()"
   ]
  },
  {
   "cell_type": "markdown",
   "metadata": {},
   "source": [
    "## Finding duplicates\n"
   ]
  },
  {
   "cell_type": "markdown",
   "metadata": {},
   "source": [
    "In this section you will identify duplicate values in the dataset.\n"
   ]
  },
  {
   "cell_type": "markdown",
   "metadata": {},
   "source": [
    " Find how many duplicate rows exist in the dataframe.\n"
   ]
  },
  {
   "cell_type": "code",
   "execution_count": 7,
   "metadata": {},
   "outputs": [
    {
     "data": {
      "text/plain": [
       "154"
      ]
     },
     "execution_count": 7,
     "metadata": {},
     "output_type": "execute_result"
    }
   ],
   "source": [
    "# your code goes here\n",
    "df.duplicated().sum()"
   ]
  },
  {
   "cell_type": "code",
   "execution_count": 34,
   "metadata": {},
   "outputs": [
    {
     "data": {
      "text/plain": [
       "11398"
      ]
     },
     "execution_count": 34,
     "metadata": {},
     "output_type": "execute_result"
    }
   ],
   "source": [
    "# your code goes here\n",
    "df.shape[0]"
   ]
  },
  {
   "cell_type": "markdown",
   "metadata": {},
   "source": [
    "## Removing duplicates\n"
   ]
  },
  {
   "cell_type": "markdown",
   "metadata": {},
   "source": [
    "Remove the duplicate rows from the dataframe.\n"
   ]
  },
  {
   "cell_type": "code",
   "execution_count": 8,
   "metadata": {},
   "outputs": [],
   "source": [
    "df.drop_duplicates(inplace=True)"
   ]
  },
  {
   "cell_type": "markdown",
   "metadata": {},
   "source": [
    "Verify if duplicates were actually dropped.\n"
   ]
  },
  {
   "cell_type": "code",
   "execution_count": 9,
   "metadata": {},
   "outputs": [
    {
     "data": {
      "text/plain": [
       "0"
      ]
     },
     "execution_count": 9,
     "metadata": {},
     "output_type": "execute_result"
    }
   ],
   "source": [
    "df.duplicated().sum()\n"
   ]
  },
  {
   "cell_type": "code",
   "execution_count": 30,
   "metadata": {},
   "outputs": [
    {
     "name": "stdout",
     "output_type": "stream",
     "text": [
      "11398\n"
     ]
    }
   ],
   "source": [
    "print(df.shape[0])"
   ]
  },
  {
   "cell_type": "code",
   "execution_count": 35,
   "metadata": {},
   "outputs": [
    {
     "name": "stdout",
     "output_type": "stream",
     "text": [
      "Número de filas en blanco en la columna EdLevel: 112\n"
     ]
    }
   ],
   "source": [
    "\n",
    "df_unique = df.drop_duplicates()\n",
    "\n",
    "filas_en_blanco = df_unique['EdLevel'].isna().sum()\n",
    "print(f\"Número de filas en blanco en la columna EdLevel: {filas_en_blanco}\")"
   ]
  },
  {
   "cell_type": "code",
   "execution_count": 36,
   "metadata": {},
   "outputs": [
    {
     "name": "stdout",
     "output_type": "stream",
     "text": [
      "Número de filas faltantes en la columna Country: 0\n"
     ]
    }
   ],
   "source": [
    "# Eliminar filas duplicadas\n",
    "df_unique = df.drop_duplicates()\n",
    "\n",
    "# Contar filas faltantes en la columna 'Country'\n",
    "filas_faltantes = df_unique['Country'].isnull().sum()\n",
    "\n",
    "print(f\"Número de filas faltantes en la columna Country: {filas_faltantes}\")"
   ]
  },
  {
   "cell_type": "markdown",
   "metadata": {},
   "source": [
    "## Finding Missing values\n"
   ]
  },
  {
   "cell_type": "markdown",
   "metadata": {},
   "source": [
    "Find the missing values for all columns.\n"
   ]
  },
  {
   "cell_type": "code",
   "execution_count": 10,
   "metadata": {},
   "outputs": [
    {
     "data": {
      "text/plain": [
       "Respondent        0\n",
       "MainBranch        0\n",
       "Hobbyist          0\n",
       "OpenSourcer       0\n",
       "OpenSource       81\n",
       "               ... \n",
       "Sexuality       542\n",
       "Ethnicity       675\n",
       "Dependents      140\n",
       "SurveyLength     19\n",
       "SurveyEase       14\n",
       "Length: 85, dtype: int64"
      ]
     },
     "execution_count": 10,
     "metadata": {},
     "output_type": "execute_result"
    }
   ],
   "source": [
    "missing_data=df.isna()\n",
    "missing_data.sum()"
   ]
  },
  {
   "cell_type": "markdown",
   "metadata": {},
   "source": [
    "Find out how many rows are missing in the column 'WorkLoc'\n"
   ]
  },
  {
   "cell_type": "code",
   "execution_count": 16,
   "metadata": {},
   "outputs": [
    {
     "data": {
      "text/plain": [
       "32"
      ]
     },
     "execution_count": 16,
     "metadata": {},
     "output_type": "execute_result"
    }
   ],
   "source": [
    "missing_data['WorkLoc'].sum()"
   ]
  },
  {
   "cell_type": "markdown",
   "metadata": {},
   "source": [
    "## Imputing missing values\n"
   ]
  },
  {
   "cell_type": "markdown",
   "metadata": {},
   "source": [
    "Find the  value counts for the column WorkLoc.\n"
   ]
  },
  {
   "cell_type": "code",
   "execution_count": 18,
   "metadata": {},
   "outputs": [
    {
     "data": {
      "text/plain": [
       "Office                                            6806\n",
       "Home                                              3589\n",
       "Other place, such as a coworking space or cafe     971\n",
       "Name: WorkLoc, dtype: int64"
      ]
     },
     "execution_count": 18,
     "metadata": {},
     "output_type": "execute_result"
    }
   ],
   "source": [
    "df['WorkLoc'].value_counts()"
   ]
  },
  {
   "cell_type": "code",
   "execution_count": 44,
   "metadata": {},
   "outputs": [
    {
     "name": "stdout",
     "output_type": "stream",
     "text": [
      "Employed full-time    10968\n",
      "Employed part-time      430\n",
      "Name: Employment, dtype: int64 veces\n"
     ]
    }
   ],
   "source": [
    "conteo = df['Employment'].value_counts()\n",
    "print(f\"{conteo} veces\")"
   ]
  },
  {
   "cell_type": "code",
   "execution_count": 43,
   "metadata": {},
   "outputs": [
    {
     "name": "stdout",
     "output_type": "stream",
     "text": [
      "Computer science, computer engineering, or software engineering          6953\n",
      "Information systems, information technology, or system administration     794\n",
      "Another engineering discipline (ex. civil, electrical, mechanical)        759\n",
      "Web development or web design                                             410\n",
      "A natural science (ex. biology, chemistry, physics)                       403\n",
      "Mathematics or statistics                                                 372\n",
      "A business discipline (ex. accounting, finance, marketing)                244\n",
      "A social science (ex. anthropology, psychology, political science)        210\n",
      "A humanities discipline (ex. literature, history, philosophy)             207\n",
      "Fine arts or performing arts (ex. graphic design, music, studio art)      161\n",
      "I never declared a major                                                  124\n",
      "A health science (ex. nursing, pharmacy, radiology)                        24\n",
      "Name: UndergradMajor, dtype: int64 veces\n"
     ]
    }
   ],
   "source": [
    "conteo = df['UndergradMajor'].value_counts()\n",
    "print(f\"{conteo} veces\")"
   ]
  },
  {
   "cell_type": "code",
   "execution_count": 45,
   "metadata": {},
   "outputs": [
    {
     "name": "stdout",
     "output_type": "stream",
     "text": [
      "2000000.0    138\n",
      "1000000.0    105\n",
      "100000.0      99\n",
      "150000.0      92\n",
      "120000.0      86\n",
      "            ... \n",
      "79183.0        1\n",
      "20475.0        1\n",
      "288732.0       1\n",
      "22056.0        1\n",
      "19880.0        1\n",
      "Name: ConvertedComp, Length: 3515, dtype: int64 veces\n"
     ]
    }
   ],
   "source": [
    "conteo = df['ConvertedComp'].value_counts()\n",
    "print(f\"{conteo} veces\")"
   ]
  },
  {
   "cell_type": "markdown",
   "metadata": {},
   "source": [
    "Identify the value that is most frequent (majority) in the WorkLoc column.\n"
   ]
  },
  {
   "cell_type": "code",
   "execution_count": 20,
   "metadata": {},
   "outputs": [
    {
     "data": {
      "text/plain": [
       "0    Office\n",
       "Name: WorkLoc, dtype: object"
      ]
     },
     "execution_count": 20,
     "metadata": {},
     "output_type": "execute_result"
    }
   ],
   "source": [
    "df['WorkLoc'].mode()"
   ]
  },
  {
   "cell_type": "markdown",
   "metadata": {},
   "source": [
    "Impute (replace) all the empty rows in the column WorkLoc with the value that you have identified as majority.\n"
   ]
  },
  {
   "cell_type": "code",
   "execution_count": 25,
   "metadata": {},
   "outputs": [],
   "source": [
    "# your code goes here\n",
    "df['WorkLoc'].fillna(df['WorkLoc'].mode()[0], inplace=True)"
   ]
  },
  {
   "cell_type": "markdown",
   "metadata": {},
   "source": [
    "After imputation there should ideally not be any empty rows in the WorkLoc column.\n"
   ]
  },
  {
   "cell_type": "markdown",
   "metadata": {},
   "source": [
    "Verify if imputing was successful.\n"
   ]
  },
  {
   "cell_type": "code",
   "execution_count": 27,
   "metadata": {},
   "outputs": [
    {
     "data": {
      "text/plain": [
       "0"
      ]
     },
     "execution_count": 27,
     "metadata": {},
     "output_type": "execute_result"
    }
   ],
   "source": [
    "df['WorkLoc'].isna().sum()"
   ]
  },
  {
   "cell_type": "markdown",
   "metadata": {},
   "source": [
    "## Normalizing data\n"
   ]
  },
  {
   "cell_type": "markdown",
   "metadata": {},
   "source": [
    "There are two columns in the dataset that talk about compensation.\n",
    "\n",
    "One is \"CompFreq\". This column shows how often a developer is paid (Yearly, Monthly, Weekly).\n",
    "\n",
    "The other is \"CompTotal\". This column talks about how much the developer is paid per Year, Month, or Week depending upon his/her \"CompFreq\". \n",
    "\n",
    "This makes it difficult to compare the total compensation of the developers.\n",
    "\n",
    "In this section you will create a new column called 'NormalizedAnnualCompensation' which contains the 'Annual Compensation' irrespective of the 'CompFreq'.\n",
    "\n",
    "Once this column is ready, it makes comparison of salaries easy.\n"
   ]
  },
  {
   "cell_type": "markdown",
   "metadata": {},
   "source": [
    "<hr>\n"
   ]
  },
  {
   "cell_type": "markdown",
   "metadata": {},
   "source": [
    "List out the various categories in the column 'CompFreq'\n"
   ]
  },
  {
   "cell_type": "code",
   "execution_count": 61,
   "metadata": {},
   "outputs": [
    {
     "name": "stdout",
     "output_type": "stream",
     "text": [
      "[ 1. 12. 52. nan]\n"
     ]
    }
   ],
   "source": [
    "compen_rf=df['CompFreq'].unique()\n",
    "print(compen_rf)\n"
   ]
  },
  {
   "cell_type": "code",
   "execution_count": 63,
   "metadata": {},
   "outputs": [
    {
     "name": "stdout",
     "output_type": "stream",
     "text": [
      "Número de encuestados que cobran al año: 11398\n",
      "Porcentaje de encuestados que cobran al año: 100.00%\n"
     ]
    }
   ],
   "source": [
    "df_unique = df.drop_duplicates()\n",
    "encuestados_anuales = df_unique.shape[0]\n",
    "print(f\"Número de encuestados que cobran al año: {encuestados_anuales}\")\n",
    "porcentaje = (encuestados_anuales / len(df_unique)) * 100\n",
    "print(f\"Porcentaje de encuestados que cobran al año: {porcentaje:.2f}%\")"
   ]
  },
  {
   "cell_type": "code",
   "execution_count": 28,
   "metadata": {},
   "outputs": [
    {
     "data": {
      "text/plain": [
       "206"
      ]
     },
     "execution_count": 28,
     "metadata": {},
     "output_type": "execute_result"
    }
   ],
   "source": [
    "df['CompFreq'].isnull().sum()\n"
   ]
  },
  {
   "cell_type": "markdown",
   "metadata": {},
   "source": [
    "Create a new column named 'NormalizedAnnualCompensation'. Use the hint given below if needed.\n"
   ]
  },
  {
   "cell_type": "markdown",
   "metadata": {},
   "source": [
    "Double click to see the **Hint**.\n",
    "\n",
    "<!--\n",
    "\n",
    "Use the below logic to arrive at the values for the column NormalizedAnnualCompensation.\n",
    "\n",
    "If the CompFreq is Yearly then use the exising value in CompTotal\n",
    "If the CompFreq is Monthly then multiply the value in CompTotal with 12 (months in an year)\n",
    "If the CompFreq is Weekly then multiply the value in CompTotal with 52 (weeks in an year)\n",
    "\n",
    "-->\n"
   ]
  },
  {
   "cell_type": "code",
   "execution_count": 55,
   "metadata": {},
   "outputs": [
    {
     "name": "stdout",
     "output_type": "stream",
     "text": [
      "100000.0\n"
     ]
    }
   ],
   "source": [
    "df['CompFreq'].replace(to_replace='Yearly', value=1, inplace=True)\n",
    "df['CompFreq'].replace(to_replace='Monthly', value=12, inplace=True)\n",
    "df['CompFreq'].replace(to_replace='Weekly', value=52, inplace=True)\n",
    "\n",
    "df['NormalizedAnualCompensation'] = df [\"CompTotal\"] * df[\"CompFreq\"]\n",
    "print(df['NormalizedAnualCompensation'].median() )"
   ]
  },
  {
   "cell_type": "code",
   "execution_count": 48,
   "metadata": {},
   "outputs": [
    {
     "name": "stdout",
     "output_type": "stream",
     "text": [
      "Número de valores únicos en la columna CompFreq: 4\n"
     ]
    }
   ],
   "source": [
    "valores_unicos = len(df['CompFreq'].unique())\n",
    "print(f\"Número de valores únicos en la columna CompFreq: {valores_unicos}\")"
   ]
  },
  {
   "cell_type": "code",
   "execution_count": 52,
   "metadata": {},
   "outputs": [
    {
     "name": "stdout",
     "output_type": "stream",
     "text": [
      "Respondent                     11398\n",
      "MainBranch                     11398\n",
      "Hobbyist                       11398\n",
      "OpenSourcer                    11398\n",
      "OpenSource                     11317\n",
      "                               ...  \n",
      "Ethnicity                      10723\n",
      "Dependents                     11258\n",
      "SurveyLength                   11379\n",
      "SurveyEase                     11384\n",
      "NormalizedAnualCompensation    10583\n",
      "Length: 86, dtype: int64\n"
     ]
    }
   ],
   "source": [
    "\n",
    "df_unique = df.drop_duplicates()\n",
    "print(df_unique.count())"
   ]
  },
  {
   "cell_type": "markdown",
   "metadata": {
    "jp-MarkdownHeadingCollapsed": true
   },
   "source": [
    "## Authors\n"
   ]
  },
  {
   "cell_type": "markdown",
   "metadata": {},
   "source": [
    "Ramesh Sannareddy\n"
   ]
  },
  {
   "cell_type": "markdown",
   "metadata": {},
   "source": [
    "### Other Contributors\n"
   ]
  },
  {
   "cell_type": "markdown",
   "metadata": {},
   "source": [
    "Rav Ahuja\n"
   ]
  },
  {
   "cell_type": "markdown",
   "metadata": {},
   "source": [
    "## Change Log\n"
   ]
  },
  {
   "cell_type": "markdown",
   "metadata": {},
   "source": [
    "| Date (YYYY-MM-DD) | Version | Changed By        | Change Description                 |\n",
    "| ----------------- | ------- | ----------------- | ---------------------------------- |\n",
    "| 2020-10-17        | 0.1     | Ramesh Sannareddy | Created initial version of the lab |\n"
   ]
  },
  {
   "cell_type": "markdown",
   "metadata": {},
   "source": [
    " Copyright © 2020 IBM Corporation. This notebook and its source code are released under the terms of the [MIT License](https://cognitiveclass.ai/mit-license?utm_medium=Exinfluencer&utm_source=Exinfluencer&utm_content=000026UJ&utm_term=10006555&utm_id=NA-SkillsNetwork-Channel-SkillsNetworkCoursesIBMDA0321ENSkillsNetwork928-2022-01-01&cm_mmc=Email_Newsletter-_-Developer_Ed%2BTech-_-WW_WW-_-SkillsNetwork-Courses-IBM-DA0321EN-SkillsNetwork-21426264&cm_mmca1=000026UJ&cm_mmca2=10006555&cm_mmca3=M12345678&cvosrc=email.Newsletter.M12345678&cvo_campaign=000026UJ).\n"
   ]
  }
 ],
 "metadata": {
  "kernelspec": {
   "display_name": "Python 3 (Spyder)",
   "language": "python3",
   "name": "python3"
  },
  "language_info": {
   "codemirror_mode": {
    "name": "ipython",
    "version": 3
   },
   "file_extension": ".py",
   "mimetype": "text/x-python",
   "name": "python",
   "nbconvert_exporter": "python",
   "pygments_lexer": "ipython3",
   "version": "3.11.4"
  },
  "prev_pub_hash": "955deb52b02eec3e16e61df584232f2cc045079d697f475cb65582dbfebe300c"
 },
 "nbformat": 4,
 "nbformat_minor": 4
}
